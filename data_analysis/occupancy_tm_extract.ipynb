{
 "cells": [
  {
   "cell_type": "code",
   "execution_count": 63,
   "id": "2bbae0e2-99f7-4ea1-bec1-a0ecca1a5a89",
   "metadata": {},
   "outputs": [],
   "source": [
    "import pandas as pd"
   ]
  },
  {
   "cell_type": "code",
   "execution_count": 64,
   "id": "0f8d0aa6-bf86-409e-aaa5-04d84e85903a",
   "metadata": {},
   "outputs": [
    {
     "data": {
      "text/plain": [
       "Index(['Ten minute period number', 'Active occupant count in time period',\n",
       "       'Probability of transition to zero active occupants in next time period',\n",
       "       'Probability of transition to one active occupant in next time period',\n",
       "       'Probability of transition to two active occupants in next time period',\n",
       "       'Probability of transition to three active occupants in next time period',\n",
       "       'Probability of transition to four active occupants in next time period',\n",
       "       'Probability of transition to five active occupants in next time period',\n",
       "       'Probability of transition to six active occupants in next time period'],\n",
       "      dtype='object')"
      ]
     },
     "execution_count": 64,
     "metadata": {},
     "output_type": "execute_result"
    }
   ],
   "source": [
    "df_wd = pd.read_excel(\"D:\\devel\\Build_OBM\\input_data\\Active_Occupancy_Simulation_Data_Sheet_1 0c.xlsm\",sheet_name='tpm1_wd',skiprows=7,header=2)\n",
    "df_we = pd.read_excel(\"D:\\devel\\Build_OBM\\input_data\\Active_Occupancy_Simulation_Data_Sheet_1 0c.xlsm\",sheet_name='tpm1_we',skiprows=7,header=2)\n",
    "df_we.columns"
   ]
  },
  {
   "cell_type": "code",
   "execution_count": 65,
   "id": "748794d4-5412-475e-8af8-e3064bc9bac7",
   "metadata": {},
   "outputs": [],
   "source": [
    "cols_2_keep = ['Ten minute period number',\n",
    "               'Active occupant count in time period',\n",
    "               'Probability of transition to zero active occupants in next time period',\n",
    "               'Probability of transition to one active occupant in next time period']\n",
    "cols_2_rename = {'Ten minute period number': 'Ten minute period number',\n",
    "                 'Active occupant count in time period': 'Current state',\n",
    "                 'Probability of transition to zero active occupants in next time period': 'Unoccup_prob',\n",
    "                 'Probability of transition to one active occupant in next time period': 'Occupied_prob'}"
   ]
  },
  {
   "cell_type": "code",
   "execution_count": 66,
   "id": "4ee41b12-5ba6-41c6-97aa-071d71489b55",
   "metadata": {},
   "outputs": [
    {
     "data": {
      "text/plain": [
       "Index(['Ten minute period number', 'Current state', 'Unoccup_prob',\n",
       "       'Occupied_prob'],\n",
       "      dtype='object')"
      ]
     },
     "execution_count": 66,
     "metadata": {},
     "output_type": "execute_result"
    }
   ],
   "source": [
    "df_we = df_we[cols_2_keep].copy()\n",
    "df_we.rename(columns=cols_2_rename,inplace=True)\n",
    "df_wd = df_wd[cols_2_keep].copy()\n",
    "df_wd.rename(columns=cols_2_rename,inplace=True)\n",
    "df_we.columns"
   ]
  },
  {
   "cell_type": "code",
   "execution_count": 69,
   "id": "af094c49-10f0-43b7-9bbc-78c448ef273a",
   "metadata": {},
   "outputs": [],
   "source": [
    "df_wd = df_wd.loc[df_wd['Current state'] <2].copy()\n",
    "df_we = df_we.loc[df_we['Current state'] <2].copy()"
   ]
  },
  {
   "cell_type": "code",
   "execution_count": 74,
   "id": "d6479738-06a0-4784-a392-2534c25ad7d5",
   "metadata": {},
   "outputs": [],
   "source": [
    "df_we.to_csv(\"occ_tm_we.csv\",index=False)\n",
    "df_wd.to_csv(\"occ_tm_wd.csv\",index=False)"
   ]
  },
  {
   "cell_type": "code",
   "execution_count": null,
   "id": "4bef2ddd-32f0-4eeb-a685-6cb38b5aee75",
   "metadata": {},
   "outputs": [],
   "source": []
  }
 ],
 "metadata": {
  "kernelspec": {
   "display_name": "build_obm",
   "language": "python",
   "name": "build_obm"
  },
  "language_info": {
   "codemirror_mode": {
    "name": "ipython",
    "version": 3
   },
   "file_extension": ".py",
   "mimetype": "text/x-python",
   "name": "python",
   "nbconvert_exporter": "python",
   "pygments_lexer": "ipython3",
   "version": "3.7.13"
  }
 },
 "nbformat": 4,
 "nbformat_minor": 5
}
